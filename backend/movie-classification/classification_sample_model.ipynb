{
 "cells": [
  {
   "cell_type": "code",
   "execution_count": 18,
   "metadata": {},
   "outputs": [
    {
     "name": "stdout",
     "output_type": "stream",
     "text": [
      "['Title', 'Year', 'Rated', 'Released', 'Runtime', 'Genre', 'Director', 'Writer', 'Actors', 'Plot', 'Language', 'Country', 'Awards', 'Poster', 'Ratings', 'Metascore', 'imdbRating', 'imdbVotes', 'imdbID', 'Type', 'DVD', 'BoxOffice', 'Production', 'Website', 'Response']\n"
     ]
    },
    {
     "data": {
      "text/html": [
       "<div>\n",
       "<style scoped>\n",
       "    .dataframe tbody tr th:only-of-type {\n",
       "        vertical-align: middle;\n",
       "    }\n",
       "\n",
       "    .dataframe tbody tr th {\n",
       "        vertical-align: top;\n",
       "    }\n",
       "\n",
       "    .dataframe thead th {\n",
       "        text-align: right;\n",
       "    }\n",
       "</style>\n",
       "<table border=\"1\" class=\"dataframe\">\n",
       "  <thead>\n",
       "    <tr style=\"text-align: right;\">\n",
       "      <th></th>\n",
       "      <th>Title</th>\n",
       "      <th>Plot</th>\n",
       "    </tr>\n",
       "  </thead>\n",
       "  <tbody>\n",
       "    <tr>\n",
       "      <th>0</th>\n",
       "      <td>12 Angry Men</td>\n",
       "      <td>The defense and the prosecution have rested, a...</td>\n",
       "    </tr>\n",
       "    <tr>\n",
       "      <th>1</th>\n",
       "      <td>12 Monkeys</td>\n",
       "      <td>James Cole, a prisoner of the state in the yea...</td>\n",
       "    </tr>\n",
       "    <tr>\n",
       "      <th>2</th>\n",
       "      <td>12 Years a Slave</td>\n",
       "      <td>Based on an incredible true story of one man's...</td>\n",
       "    </tr>\n",
       "    <tr>\n",
       "      <th>3</th>\n",
       "      <td>1917</td>\n",
       "      <td>April 1917, the Western Front. Two British sol...</td>\n",
       "    </tr>\n",
       "    <tr>\n",
       "      <th>4</th>\n",
       "      <td>2001: A Space Odyssey</td>\n",
       "      <td>\"2001\" is a story of evolution. Sometime in th...</td>\n",
       "    </tr>\n",
       "    <tr>\n",
       "      <th>...</th>\n",
       "      <td>...</td>\n",
       "      <td>...</td>\n",
       "    </tr>\n",
       "    <tr>\n",
       "      <th>295</th>\n",
       "      <td>X-Men: The Last Stand</td>\n",
       "      <td>When a \"cure\" is created, which apparently can...</td>\n",
       "    </tr>\n",
       "    <tr>\n",
       "      <th>296</th>\n",
       "      <td>X2: X-Men United</td>\n",
       "      <td>Several months have passed since the X-Men def...</td>\n",
       "    </tr>\n",
       "    <tr>\n",
       "      <th>297</th>\n",
       "      <td>Zodiac</td>\n",
       "      <td>A serial killer in the San Francisco Bay Area ...</td>\n",
       "    </tr>\n",
       "    <tr>\n",
       "      <th>298</th>\n",
       "      <td>Zombieland</td>\n",
       "      <td>Searching for family. In the early twenty-firs...</td>\n",
       "    </tr>\n",
       "    <tr>\n",
       "      <th>299</th>\n",
       "      <td>Zootopia</td>\n",
       "      <td>From the largest elephant to the smallest shre...</td>\n",
       "    </tr>\n",
       "  </tbody>\n",
       "</table>\n",
       "<p>300 rows × 2 columns</p>\n",
       "</div>"
      ],
      "text/plain": [
       "                     Title                                               Plot\n",
       "0             12 Angry Men  The defense and the prosecution have rested, a...\n",
       "1               12 Monkeys  James Cole, a prisoner of the state in the yea...\n",
       "2         12 Years a Slave  Based on an incredible true story of one man's...\n",
       "3                     1917  April 1917, the Western Front. Two British sol...\n",
       "4    2001: A Space Odyssey  \"2001\" is a story of evolution. Sometime in th...\n",
       "..                     ...                                                ...\n",
       "295  X-Men: The Last Stand  When a \"cure\" is created, which apparently can...\n",
       "296       X2: X-Men United  Several months have passed since the X-Men def...\n",
       "297                 Zodiac  A serial killer in the San Francisco Bay Area ...\n",
       "298             Zombieland  Searching for family. In the early twenty-firs...\n",
       "299               Zootopia  From the largest elephant to the smallest shre...\n",
       "\n",
       "[300 rows x 2 columns]"
      ]
     },
     "execution_count": 18,
     "metadata": {},
     "output_type": "execute_result"
    }
   ],
   "source": [
    "# Libraries\n",
    "import pandas as pd\n",
    "\n",
    "# Read the JSON file\n",
    "df = pd.read_json('sample_data.json')\n",
    "cols = df.columns.to_list()\n",
    "print(cols)\n",
    "\n",
    "movie_plot_data = df[['Title', 'Plot']]\n",
    "movie_plot_data"
   ]
  }
 ],
 "metadata": {
  "kernelspec": {
   "display_name": ".venv",
   "language": "python",
   "name": "python3"
  },
  "language_info": {
   "codemirror_mode": {
    "name": "ipython",
    "version": 3
   },
   "file_extension": ".py",
   "mimetype": "text/x-python",
   "name": "python",
   "nbconvert_exporter": "python",
   "pygments_lexer": "ipython3",
   "version": "3.13.1"
  }
 },
 "nbformat": 4,
 "nbformat_minor": 2
}
