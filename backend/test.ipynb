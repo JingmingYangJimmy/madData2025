{
 "cells": [
  {
   "cell_type": "code",
   "execution_count": 2,
   "metadata": {},
   "outputs": [
    {
     "name": "stdout",
     "output_type": "stream",
     "text": [
      "Fixed JSON has been saved to ../results_emotional_ratings.json\n"
     ]
    }
   ],
   "source": [
    "import json\n",
    "def fix_json_file(input_filename, output_filename):\n",
    "        with open(input_filename, 'r', encoding='utf-8') as file:\n",
    "            content = file.read()\n",
    "\n",
    "        # Fix formatting issues by wrapping in a list and separating objects properly\n",
    "        fixed_content = '[{}]'.format(content.replace('}\\n{', '},\\n{'))\n",
    "\n",
    "        try:\n",
    "            json_data = json.loads(fixed_content)  # Ensure it's valid JSON\n",
    "            with open(output_filename, 'w', encoding='utf-8') as output_file:\n",
    "                json.dump(json_data, output_file, indent=4, ensure_ascii=False)\n",
    "            print(f\"Fixed JSON has been saved to {output_filename}\")\n",
    "        except json.JSONDecodeError as e:\n",
    "            print(f\"Error fixing JSON: {e}\")\n",
    "# Fix emotional ratings file\n",
    "fix_json_file('../results_emotional_ratings.json',\n",
    "                      '../results_emotional_ratings.json')"
   ]
  },
  {
   "cell_type": "code",
   "execution_count": 3,
   "metadata": {},
   "outputs": [],
   "source": [
    "import json\n",
    "\n",
    "\n",
    "def load_json(filepath):\n",
    "    with open(filepath, 'r') as file:\n",
    "        return json.load(file)\n",
    "\n",
    "\n",
    "def calculate_score(movie, user_ratings):\n",
    "    return (\n",
    "        abs(movie[\"EmotionalRatings\"][\"Sad_to_Happy\"] - user_ratings[\"happy_index\"]) +\n",
    "        abs(movie[\"EmotionalRatings\"][\"Fear_to_Anger\"] - user_ratings[\"fear_index\"]) +\n",
    "        abs(movie[\"EmotionalRatings\"][\"Anxious_to_Calm\"] -\n",
    "            user_ratings[\"anxious_index\"])\n",
    "    )"
   ]
  },
  {
   "cell_type": "code",
   "execution_count": 6,
   "metadata": {},
   "outputs": [
    {
     "name": "stdout",
     "output_type": "stream",
     "text": [
      "{'Title': '12 Angry Men', 'EmotionalRatings': {'Sad_to_Happy': -0.2, 'Fear_to_Anger': 0.5, 'Anxious_to_Calm': -0.6}, 'Reasoning': \"The film centers around a tense jury deliberation, dealing with the potential wrongful conviction of a young man.  The initial presumption of guilt and the clashing personalities create a generally somber and stressful atmosphere, leading to a negative 'Sad_to_Happy' score.  The arguments and escalating tensions between jurors generate significant anger and frustration, reflected in the high 'Fear_to_Anger' score.  The uncertainty of the situation and the weight of the decision produce considerable anxiety and unease throughout the film, resulting in a low 'Anxious_to_Calm' score. The overall mood is one of intense pressure and moral conflict rather than resolution or peace.\"}\n",
      "{'Title': '12 Monkeys', 'EmotionalRatings': {'Sad_to_Happy': -0.7, 'Fear_to_Anger': 0.4, 'Anxious_to_Calm': -0.8}, 'Reasoning': \"The post-apocalyptic setting and the devastating plague create a strong sense of sadness and despair ('Sad_to_Happy' -0.7).  The protagonist's desperate struggle against time and the constant threat of death generate significant fear and even frustration/anger, leading to a higher 'Fear_to_Anger' score (0.4). The film is filled with suspense, paranoia, and uncertainty, with Cole's mental state constantly in question, making 'Anxious_to_Calm' very low (-0.8). The overall tone is bleak and anxiety-inducing.\"}\n",
      "{'Title': '12 Years a Slave', 'EmotionalRatings': {'Sad_to_Happy': -0.8, 'Fear_to_Anger': 0.6, 'Anxious_to_Calm': -0.7}, 'Reasoning': \"This film depicts the brutal reality of slavery, resulting in a profoundly sad and emotionally draining experience for the viewer.  The 'Sad_to_Happy' score is heavily negative due to the pervasive suffering and injustice portrayed. The high 'Fear_to_Anger' score reflects the constant threat of violence and the rage and injustice experienced by the protagonist and other enslaved people.  The 'Anxious_to_Calm' score is also very negative because of the sustained feeling of dread and uncertainty throughout the narrative. There is little to no sense of calm or peace in the film.\"}\n",
      "{'Title': '1917', 'EmotionalRatings': {'Sad_to_Happy': -0.8, 'Fear_to_Anger': 0.7, 'Anxious_to_Calm': -0.9}, 'Reasoning': \"The film depicts the intense brutality and relentless danger of World War I trench warfare.  The constant threat of death and the grim reality of the battlefield create a pervasive atmosphere of sadness and despair, hence the very low 'Sad_to_Happy' score. The soldiers experience significant fear, and while outright rage isn't a central theme, the desperation and urgency of their mission fuel a high level of tension and anger toward the enemy and the situation itself.  The film maintains a state of almost unbearable suspense and anxiety throughout, leaving the viewer with little to no sense of calm. The unrelenting tension results in a significantly negative 'Anxious_to_Calm' rating.\"}\n",
      "{'Title': '2001: A Space Odyssey', 'EmotionalRatings': {'Sad_to_Happy': -0.2, 'Fear_to_Anger': 0.1, 'Anxious_to_Calm': -0.5}, 'Reasoning': \"The film evokes a sense of awe and wonder, but also existential dread and isolation. The vastness of space and the mystery surrounding the monoliths contribute to a feeling of unease and insignificance, leading to a lower 'Sad_to_Happy' score. While there are moments of tension and conflict (especially with HAL), the film doesn't focus on intense anger. However, the mysterious nature of events and the looming sense of the unknown create significant anxiety throughout the movie, resulting in a low 'Anxious_to_Calm' score. The slight positivity in 'Fear_to_Anger' comes from the determination of Bowman to solve the mystery and reach the monolith's source.\"}\n",
      "{'Title': '21 Jump Street', 'EmotionalRatings': {'Sad_to_Happy': 0.8, 'Fear_to_Anger': -0.2, 'Anxious_to_Calm': 0.7}, 'Reasoning': \"The movie is primarily a comedy, focusing on the humorous misadventures of two undercover cops.  The overall tone is light-hearted and uplifting, leading to a high 'Sad_to_Happy' score. While there are some tense moments related to the drug operation and potential dangers, the comedic elements significantly outweigh the seriousness, resulting in a low 'Fear_to_Anger' score. The resolution of the plot and the positive developments in the characters' relationships contribute to a feeling of resolution and calm, hence the high 'Anxious_to_Calm' rating. The film ultimately offers a comedic and satisfying journey for the characters.\"}\n",
      "{'Title': '300', 'EmotionalRatings': {'Sad_to_Happy': -0.5, 'Fear_to_Anger': 0.8, 'Anxious_to_Calm': -0.7}, 'Reasoning': \"The movie depicts a brutal and bloody battle, resulting in a tragic loss for the Spartans.  The overwhelming sense of impending doom and the sheer scale of violence contribute to a significantly negative 'Sad_to_Happy' score.  The intense fighting, the courageous defiance in the face of certain death, and the vengeful rage of the Spartans fuel a high 'Fear_to_Anger' rating. The constant threat of death and the unrelenting violence create a pervasive sense of anxiety and tension throughout the film, making the 'Anxious_to_Calm' score very negative.\"}\n",
      "{'Title': '500 Days of Summer', 'EmotionalRatings': {'Sad_to_Happy': 0.0, 'Fear_to_Anger': -0.5, 'Anxious_to_Calm': -0.2}, 'Reasoning': \"The movie depicts a relationship that ends badly, leading to significant sadness for the protagonist.  The overall tone is melancholic, hence the neutral 'Sad_to_Happy' score. There is a lack of anger, instead replaced by a pervasive sense of disappointment and heartbreak.  While not intensely fearful, the uncertainty and emotional vulnerability experienced by Tom throughout the film contribute to a slightly anxious feeling.  The film's ending, however, is not without a certain calm acceptance of the past, hence the negative, but not extremely low, 'Anxious_to_Calm' score.\"}\n",
      "{'Title': 'A Beautiful Mind', 'EmotionalRatings': {'Sad_to_Happy': 0.4, 'Fear_to_Anger': -0.2, 'Anxious_to_Calm': -0.1}, 'Reasoning': \"The film portrays a significant struggle with mental illness, leading to moments of profound sadness and uncertainty.  While there are moments of triumph and love, the overall narrative arc is weighted by the character's internal battle.  There's little anger present, and more of a sense of fear and paranoia related to his condition.  The film ultimately offers a sense of resolution and acceptance, but the journey is fraught with anxiety, resulting in a slightly negative 'Anxious_to_Calm' score.\"}\n",
      "1. A Beautiful Mind\n",
      "2. 21 Jump Street\n",
      "3. 500 Days of Summer\n",
      "4. 2001: A Space Odyssey\n",
      "5. 12 Angry Men\n",
      "6. 12 Monkeys\n",
      "7. 300\n",
      "8. 12 Years a Slave\n",
      "9. 1917\n"
     ]
    }
   ],
   "source": [
    "movies_data = load_json('../results_emotional_ratings.json')\n",
    "backend_data = load_json('data.json')  # user data\n",
    "\n",
    "# Extract the latest barValues from backend data\n",
    "latest_bar_values = backend_data[-1][\"barValues\"]\n",
    "latest_bar_values\n",
    "\n",
    "user_ratings = {\n",
    "    \"happy_index\": latest_bar_values[\"happy_index\"],\n",
    "    \"fear_index\": latest_bar_values[\"fear_index\"],\n",
    "    ##\n",
    "    \"anxious_index\": latest_bar_values[\"anxious_index\"]\n",
    "}\n",
    "\n",
    "# Rank the movies\n",
    "for movie in movies_data:\n",
    "    print(movie)\n",
    "    movie[\"score\"] = calculate_score(movie, user_ratings)\n",
    "\n",
    "ranked_movies = sorted(\n",
    "    movies_data, key=lambda x: x[\"score\"])\n",
    "\n",
    "# Print the ranked movie titles\n",
    "ranked_titles = [\n",
    "    movie[\"Title\"] for movie in ranked_movies]\n",
    "for idx, title in enumerate(ranked_titles, 1):\n",
    "    print(f\"{idx}. {title}\")\n"
   ]
  }
 ],
 "metadata": {
  "kernelspec": {
   "display_name": ".venv",
   "language": "python",
   "name": "python3"
  },
  "language_info": {
   "codemirror_mode": {
    "name": "ipython",
    "version": 3
   },
   "file_extension": ".py",
   "mimetype": "text/x-python",
   "name": "python",
   "nbconvert_exporter": "python",
   "pygments_lexer": "ipython3",
   "version": "3.13.1"
  }
 },
 "nbformat": 4,
 "nbformat_minor": 2
}
