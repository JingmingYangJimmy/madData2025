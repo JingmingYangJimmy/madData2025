{
 "cells": [
  {
   "cell_type": "code",
   "execution_count": 15,
   "metadata": {},
   "outputs": [],
   "source": [
    "import pandas as pd\n",
    "import numpy as np\n",
    "\n",
    "df = pd.read_json(\"../EmotionalMovies.json\")[[\"Title\", \"Genre\", \"AggregatedEmotion\"]]\n",
    "\n",
    "lst = ['Drama', 'Music', 'Animation', 'News', 'Musical', 'Biography', 'Action', 'Comedy', 'Film-Noir', 'Short', 'Documentary', 'Thriller', 'Sci-Fi', 'Adventure', 'War', 'Horror', 'Western', 'Mystery', 'Family', 'History', 'Crime', 'Sport', 'Romance', 'Fantasy']\n",
    "\n",
    "df[\"SadHappy\"] = df[\"AggregatedEmotion\"].apply(lambda x: x[\"Sad-Happy\"])\n",
    "df[\"TenseCalm\"] = df[\"AggregatedEmotion\"].apply(lambda x: x[\"Tense-Calm\"])\n",
    "df['genre_indices'] = df['Genre'].apply(lambda x: [lst.index(g) for g in x.split(\", \") if g in lst])\n",
    "df['genre_row'] = df['genre_indices'].apply(lambda x: [1 if i in x else 0 for i in range(len(lst))])\n",
    "df[\"matrixrow\"] = df.apply(lambda row: [row[\"SadHappy\"], row[\"TenseCalm\"]] + row[\"genre_row\"], axis=1)\n",
    "df[[\"Title\", \"matrixrow\"]]\n",
    "\n",
    "X = np.array(df[\"matrixrow\"].tolist())\n",
    "t = np.array([-0.9, -0.7, 1, 0, 0, 0, 0, 0, 0, 0, -1, 0, 0, 0, 0, 0, 0, 0, 0, 0, 0, 0, 0, 0, 0, 0]).T\n",
    "\n",
    "array = X@t\n",
    "\n",
    "res_df = pd.DataFrame(array, columns=[\"Value\"])\n",
    "res_df[\"Title\"] = df[\"Title\"]\n",
    "res_df_sorted = res_df.sort_values(by=\"Value\", ascending=False)\n",
    "res_df_sorted.to_json(\"result.json\", orient=\"records\")"
   ]
  },
  {
   "cell_type": "code",
   "execution_count": null,
   "metadata": {},
   "outputs": [],
   "source": []
  }
 ],
 "metadata": {
  "kernelspec": {
   "display_name": ".venv",
   "language": "python",
   "name": "python3"
  },
  "language_info": {
   "codemirror_mode": {
    "name": "ipython",
    "version": 3
   },
   "file_extension": ".py",
   "mimetype": "text/x-python",
   "name": "python",
   "nbconvert_exporter": "python",
   "pygments_lexer": "ipython3",
   "version": "3.13.1"
  }
 },
 "nbformat": 4,
 "nbformat_minor": 2
}
