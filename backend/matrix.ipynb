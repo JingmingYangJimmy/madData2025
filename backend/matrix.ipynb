{
 "cells": [
  {
   "cell_type": "code",
   "execution_count": null,
   "metadata": {},
   "outputs": [
    {
     "data": {
      "text/html": [
       "<div>\n",
       "<style scoped>\n",
       "    .dataframe tbody tr th:only-of-type {\n",
       "        vertical-align: middle;\n",
       "    }\n",
       "\n",
       "    .dataframe tbody tr th {\n",
       "        vertical-align: top;\n",
       "    }\n",
       "\n",
       "    .dataframe thead th {\n",
       "        text-align: right;\n",
       "    }\n",
       "</style>\n",
       "<table border=\"1\" class=\"dataframe\">\n",
       "  <thead>\n",
       "    <tr style=\"text-align: right;\">\n",
       "      <th></th>\n",
       "      <th>Title</th>\n",
       "      <th>matrixrow</th>\n",
       "    </tr>\n",
       "  </thead>\n",
       "  <tbody>\n",
       "    <tr>\n",
       "      <th>0</th>\n",
       "      <td>#Alive</td>\n",
       "      <td>[-0.633895546197891, -0.9801312712952491, 1, 0...</td>\n",
       "    </tr>\n",
       "    <tr>\n",
       "      <th>1</th>\n",
       "      <td>'71</td>\n",
       "      <td>[-0.432601511478424, -0.9633340546861291, 1, 0...</td>\n",
       "    </tr>\n",
       "    <tr>\n",
       "      <th>2</th>\n",
       "      <td>'83</td>\n",
       "      <td>[0.16981316357851, -0.6182215288281441, 1, 0, ...</td>\n",
       "    </tr>\n",
       "    <tr>\n",
       "      <th>3</th>\n",
       "      <td>10 Cloverfield Lane</td>\n",
       "      <td>[-0.241608068346977, -0.8770691128447651, 1, 0...</td>\n",
       "    </tr>\n",
       "    <tr>\n",
       "      <th>4</th>\n",
       "      <td>10 Things I Hate About You</td>\n",
       "      <td>[-0.13580311089754102, -0.5235461471602321, 1,...</td>\n",
       "    </tr>\n",
       "  </tbody>\n",
       "</table>\n",
       "</div>"
      ],
      "text/plain": [
       "                        Title  \\\n",
       "0                      #Alive   \n",
       "1                         '71   \n",
       "2                         '83   \n",
       "3         10 Cloverfield Lane   \n",
       "4  10 Things I Hate About You   \n",
       "\n",
       "                                           matrixrow  \n",
       "0  [-0.633895546197891, -0.9801312712952491, 1, 0...  \n",
       "1  [-0.432601511478424, -0.9633340546861291, 1, 0...  \n",
       "2  [0.16981316357851, -0.6182215288281441, 1, 0, ...  \n",
       "3  [-0.241608068346977, -0.8770691128447651, 1, 0...  \n",
       "4  [-0.13580311089754102, -0.5235461471602321, 1,...  "
      ]
     },
     "execution_count": 62,
     "metadata": {},
     "output_type": "execute_result"
    }
   ],
   "source": [
    "import json\n",
    "import pandas as pd\n",
    "import numpy as np\n",
    "\n",
    "df = pd.read_json(\"./movie-classification/movie_plot_emotions.json\")[[\"Title\", \"Genre\", \"AggregatedEmotion\"]]\n",
    "\n",
    "lst = ['Drama', 'Music', 'Animation', 'News', 'Musical', 'Biography', 'Action', 'Comedy', 'Film-Noir', 'Short', 'Documentary', 'Thriller', 'Sci-Fi', 'Adventure', 'War', 'Horror', 'Western', 'Mystery', 'Family', 'History', 'Crime', 'Sport', 'Romance', 'Fantasy']\n",
    "\n",
    "df[\"SadHappy\"] = df[\"AggregatedEmotion\"].apply(lambda x: x[\"Sad-Happy\"])\n",
    "df[\"TenseCalm\"] = df[\"AggregatedEmotion\"].apply(lambda x: x[\"Tense-Calm\"])\n",
    "df['genre_indices'] = df['Genre'].apply(lambda x: [lst.index(g) for g in x.split(\", \") if g in lst])\n",
    "df['genre_row'] = df['genre_indices'].apply(lambda x: [1 if i in x else 0 for i in range(len(lst))])\n",
    "df[\"matrixrow\"] = df.apply(lambda row: [row[\"SadHappy\"], row[\"TenseCalm\"]] + row[\"genre_row\"], axis=1)\n",
    "\n",
    "df[[\"Title\", \"matrixrow\"]]"
   ]
  },
  {
   "cell_type": "code",
   "execution_count": 68,
   "metadata": {},
   "outputs": [
    {
     "data": {
      "text/plain": [
       "array([-2.06642922, -1.93389475, -0.33086717, -1.75891322, -0.44796417])"
      ]
     },
     "execution_count": 68,
     "metadata": {},
     "output_type": "execute_result"
    }
   ],
   "source": [
    "X = np.array(df[\"matrixrow\"].tolist())\n",
    "t = np.array([0.6, 0.7, -1, 0, 0, 0, 0, 1, 0, 1, 0, 0, 0, 0, 0, -1, 0, 0, 0, -1, 0, 0, 0, 1, 0, 0]).T\n",
    "\n",
    "X@t"
   ]
  },
  {
   "cell_type": "code",
   "execution_count": null,
   "metadata": {},
   "outputs": [],
   "source": []
  }
 ],
 "metadata": {
  "kernelspec": {
   "display_name": "Python 3",
   "language": "python",
   "name": "python3"
  },
  "language_info": {
   "codemirror_mode": {
    "name": "ipython",
    "version": 3
   },
   "file_extension": ".py",
   "mimetype": "text/x-python",
   "name": "python",
   "nbconvert_exporter": "python",
   "pygments_lexer": "ipython3",
   "version": "3.11.4"
  }
 },
 "nbformat": 4,
 "nbformat_minor": 2
}
